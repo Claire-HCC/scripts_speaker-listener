{
 "cells": [
  {
   "cell_type": "code",
   "execution_count": 3,
   "metadata": {},
   "outputs": [],
   "source": [
    "# #!/bin/env python\n",
    "# it takes about 3hr for one hemisphere\n",
    "# rname=int(sys.argv[1])"
   ]
  },
  {
   "cell_type": "code",
   "execution_count": 82,
   "metadata": {},
   "outputs": [],
   "source": [
    "import brainiak.eventseg.event\n",
    "import numpy as np\n",
    "import glob\n",
    "import os\n",
    "import scipy.io\n",
    "from scipy.stats import stats\n",
    "import logging\n",
    "import matplotlib.pyplot as plt\n",
    "from scipy.stats import norm, zscore, pearsonr\n",
    "import pickle\n",
    "import time\n",
    "# this should finish in 3hr for one roi\n",
    "# logging.basicConfig(level=logging.DEBUG)"
   ]
  },
  {
   "cell_type": "code",
   "execution_count": 83,
   "metadata": {},
   "outputs": [],
   "source": [
    "expdir = '/scratch/claire/speaker-listener/'\n",
    "timeUnit='tr'\n",
    "froidir='mor';\n",
    "exps=['pieman','bronx','merlin','sherlock']\n",
    "rname='vPCUN'\n",
    "eventN_test=range(10,121)\n",
    "w=5"
   ]
  },
  {
   "cell_type": "code",
   "execution_count": 84,
   "metadata": {},
   "outputs": [
    {
     "name": "stdout",
     "output_type": "stream",
     "text": [
      "0\n",
      "1\n",
      "2\n",
      "3\n",
      "4\n",
      "5\n",
      "6\n",
      "7\n",
      "8\n",
      "9\n",
      "10\n",
      "11\n",
      "12\n",
      "13\n",
      "14\n",
      "15\n",
      "16\n",
      "17\n",
      "30698.192772865295\n"
     ]
    }
   ],
   "source": [
    "start_time = time.time()\n",
    "\n",
    "# load mat file\n",
    "for exp in [exps[2]]:\n",
    "    for fname in  glob.glob(os.path.join(expdir + '/' + exp + '/fmri/timeseries/' + timeUnit + '/roi/' + froidir , 'zscore_listenerAll_'+rname+'.mat')):\n",
    "        data_mat=scipy.io.loadmat(fname)\n",
    "        gdata=data_mat['gdata']\n",
    "        \n",
    "        tn=gdata.shape[1]\n",
    "        subjn=gdata.shape[2]\n",
    "        voxn=gdata.shape[0]\n",
    "        \n",
    "        segments_others= np.empty((120,tn,subjn))\n",
    "        segments_others[:]=np.nan\n",
    "        segments_self= np.empty((120,tn,subjn))\n",
    "        segments_self[:]=np.nan\n",
    "        \n",
    "        within_across_real = np.empty((max(eventN_test),subjn))\n",
    "        within_across_real[:,:]=np.nan\n",
    "        for s in range(subjn):\n",
    "            if np.sum(~np.isnan(gdata[:,:,s]))>0:\n",
    "                othersi=np.arange(subjn)\n",
    "                othersi=othersi[othersi!=s]\n",
    "                others=np.nanmean(gdata[:,:,othersi],axis=2)\n",
    "                self=gdata[:,:,s]\n",
    "                \n",
    "                corrs = np.zeros(tn-w)\n",
    "                for t in range(tn-w):\n",
    "                    corrs[t] = pearsonr(self[:,t],self[:,t+w])[0]\n",
    "                    \n",
    "                for K in eventN_test:\n",
    "                    Ki=K-1\n",
    "\n",
    "                    # Find the events in this dataset\n",
    "                    seg = brainiak.eventseg.event.EventSegment(K)\n",
    "                    seg.fit(others.T) \n",
    "\n",
    "                    segments, _=seg.find_events(self.T);#, scramble=True)\n",
    "                    events=segments.argmax(axis=1)+1\n",
    "\n",
    "                    _, event_lengths = np.unique(events, return_counts=True)\n",
    "\n",
    "                    # Compute within vs across boundary correlations, for real and permuted bounds\n",
    "                    within = corrs[events[:-w] == events[w:]].mean()\n",
    "                    across = corrs[events[:-w] != events[w:]].mean()\n",
    "                    within_across_real[Ki, s] = within - across\n",
    "            print(s)\n",
    "     #   np.save(expdir +  exp+ '/fmri/hmm/'+ rname + '_ListenersLeave1Out_withinAcross_real.npy', within_across_real)      \n",
    "print(time.time()-start_time)    \n",
    "            #print('Subj ' + str(s+1) + ': WvsA = ' + str(within_across[s,0]))\n",
    "    #    scipy.io.savemat(expdir +'/fMRI/' + '+exp/hmm/'+ 'rname' + '_hmm_ListenersLeave1Out.mat', {'segments_others':segments_others,'segments_self':segments_self})"
   ]
  },
  {
   "cell_type": "code",
   "execution_count": 85,
   "metadata": {},
   "outputs": [],
   "source": [
    "np.save(expdir +  exp+ '/fmri/hmm/'+ rname + '_ListenersLeave1Out_withinAcross_real.npy', within_across_real)"
   ]
  }
 ],
 "metadata": {
  "kernelspec": {
   "display_name": "Python 3",
   "language": "python",
   "name": "python3"
  },
  "language_info": {
   "codemirror_mode": {
    "name": "ipython",
    "version": 3
   },
   "file_extension": ".py",
   "mimetype": "text/x-python",
   "name": "python",
   "nbconvert_exporter": "python",
   "pygments_lexer": "ipython3",
   "version": "3.6.4"
  }
 },
 "nbformat": 4,
 "nbformat_minor": 2
}
