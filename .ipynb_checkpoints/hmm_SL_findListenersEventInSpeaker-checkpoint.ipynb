{
 "cells": [
  {
   "cell_type": "code",
   "execution_count": 12,
   "metadata": {},
   "outputs": [],
   "source": [
    "import brainiak.eventseg.event\n",
    "import numpy as np\n",
    "import glob\n",
    "import os\n",
    "import scipy.io\n",
    "from scipy.stats import stats\n",
    "import logging\n",
    "import matplotlib.pyplot as plt\n",
    "import h5py\n",
    "import re"
   ]
  },
  {
   "cell_type": "code",
   "execution_count": 13,
   "metadata": {},
   "outputs": [],
   "source": [
    "expdir = '/mnt/sink/scratch/claire/speaker-listener/'\n",
    "timeUnit='tr'\n",
    "froidir='mor';\n",
    "exps=['pieman','bronx','merlin','sherlock']"
   ]
  },
  {
   "cell_type": "code",
   "execution_count": null,
   "metadata": {},
   "outputs": [],
   "source": [
    "# load mat file\n",
    "for exp in [exps[2]]:\n",
    "    fnames=glob.glob(os.path.join(expdir + '/' + exp + '/fmri/timeseries/' + timeUnit + '/roi/' + froidir , 'zscore_listenerAll_*.mat'))\n",
    "    \n",
    "    for fname in fnames:\n",
    "        rname=re.search('/scratch/claire/speaker-listener//merlin/fmri/timeseries/tr/roi/mor/zscore_listenerAll_(.+?).mat', fname).group(1) \n",
    "        Ks_optimal = np.load(expdir +  exp+ '/fmri/hmm/Ks_optimal.npy',allow_pickle='TRUE').item()\n",
    "        K=Ks_optimal[rname]\n",
    "        \n",
    "        fname_s=glob.glob(os.path.join(expdir + '/' + exp + '/fmri/timeseries/' + timeUnit + '/roi/' + froidir , 'zscore_speaker_'+rname+'.mat'))\n",
    "        data_mat=scipy.io.loadmat(fname_s[0])\n",
    "        data=data_mat['data']\n",
    "\n",
    "        data_mat=scipy.io.loadmat(fname)\n",
    "        gdata=data_mat['gdata']\n",
    "        g=np.mean(gdata,axis=2)\n",
    "\n",
    "        gdata_list=np.split(gdata.transpose((1, 0, 2)),gdata.shape[2],axis=2)\n",
    "        for i in range(len(gdata_list)):\n",
    "            gdata_list[i]=np.squeeze(gdata_list[i])\n",
    "\n",
    "        tn=gdata.shape[1]\n",
    "        subjn=gdata.shape[2]\n",
    "        voxn=gdata.shape[0]\n",
    "\n",
    "        # Find the events in this dataset\n",
    "        seg = brainiak.eventseg.event.EventSegment(K)\n",
    "        seg.fit(g.T) \n",
    "        # evi=seg.segments_[0].argmax(axis=1)+1\n",
    "        segments_LG=seg.segments_[0]\n",
    "        eventLabels_LG=seg.predict(g.T)\n",
    "\n",
    "        segmentsLG_S, _=seg.find_events(data.T);#, scramble=True)\n",
    "        eventLabelsLG_S=seg.predict(data.T)\n",
    "\n",
    "        segmentsLG_L= [None] * subjn\n",
    "        for si in range(subjn):\n",
    "            segmentsLG_L[si],_=seg.find_events(gdata[:,:,si].T)\n",
    "\n",
    "        seg=seg.fit(gdata_list);#, scramble=True)\n",
    "        segments_L=seg.segments_\n",
    "\n",
    "        segmentsL_S, _=seg.find_events(data.T);\n",
    "        eventLabelsL_S=seg.predict(data.T)\n",
    "\n",
    "        segmentsL_S, _=seg.find_events(data.T);\n",
    "        eventLabelsL_S=seg.predict(data.T)\n",
    "\n",
    "        f = h5py.File(expdir +  exp+ '/fmri/hmm/findListenersEventInSpeaker/'+ rname + '.hdf5', \"w\")\n",
    "        f.create_dataset('segments_LG',data=segments_LG)\n",
    "        f.create_dataset('segmentsLG_S',data=segmentsLG_S)\n",
    "        f.create_dataset('segmentsLG_L',data=segmentsLG_L)\n",
    "        f.create_dataset('segments_L',data=segments_L)\n",
    "        f.create_dataset('segmentsL_S',data=segmentsL_S)\n",
    "        f.create_dataset('eventLabels_LG',data=eventLabels_LG)\n",
    "        f.create_dataset('eventLabelsLG_S',data=eventLabelsLG_S)\n",
    "\n",
    "        f.close()\n"
   ]
  }
 ],
 "metadata": {
  "kernelspec": {
   "display_name": "Python 3",
   "language": "python",
   "name": "python3"
  },
  "language_info": {
   "codemirror_mode": {
    "name": "ipython",
    "version": 3
   },
   "file_extension": ".py",
   "mimetype": "text/x-python",
   "name": "python",
   "nbconvert_exporter": "python",
   "pygments_lexer": "ipython3",
   "version": "3.6.4"
  }
 },
 "nbformat": 4,
 "nbformat_minor": 2
}
