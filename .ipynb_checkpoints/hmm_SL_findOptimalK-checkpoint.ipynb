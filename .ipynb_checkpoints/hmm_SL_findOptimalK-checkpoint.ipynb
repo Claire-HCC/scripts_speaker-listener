{
 "cells": [
  {
   "cell_type": "code",
   "execution_count": 81,
   "metadata": {},
   "outputs": [],
   "source": [
    "import numpy as np\n",
    "import matplotlib.pyplot as plt\n",
    "from scipy.stats import norm, zscore, pearsonr, ttest_1samp\n",
    "import os\n",
    "import glob\n",
    "import re"
   ]
  },
  {
   "cell_type": "code",
   "execution_count": 82,
   "metadata": {},
   "outputs": [],
   "source": [
    "expdir = '/scratch/claire/speaker-listener/'\n",
    "exp='merlin'\n",
    "timeUnit='tr'\n",
    "froidir='mor'\n",
    "fnames=glob.glob(os.path.join(expdir + '/' + exp + '/fmri/timeseries/' + timeUnit + '/roi/' + froidir , 'zscore_listenerAll_*.mat'))\n"
   ]
  },
  {
   "cell_type": "code",
   "execution_count": 93,
   "metadata": {},
   "outputs": [
    {
     "name": "stderr",
     "output_type": "stream",
     "text": [
      "/jukebox/pkgs/PYGER/neu350/lib/python3.6/site-packages/ipykernel_launcher.py:7: RuntimeWarning: Mean of empty slice\n",
      "  import sys\n",
      "/jukebox/pkgs/PYGER/neu350/lib/python3.6/site-packages/ipykernel_launcher.py:8: RuntimeWarning: Mean of empty slice\n",
      "  \n"
     ]
    }
   ],
   "source": [
    "Ks_optimal={}\n",
    "for fname in fnames:\n",
    "    rname=re.search('/scratch/claire/speaker-listener//merlin/fmri/timeseries/tr/roi/mor/zscore_listenerAll_(.+?).mat', fname).group(1) \n",
    "\n",
    "    within_across_real=np.load(expdir +  exp+ '/fmri/hmm/WithinAcrossSim/'+ rname + '_ListenersLeave1Out_withinAcross.npy')   \n",
    "    within_across_null=np.load(expdir +  exp+ '/fmri/hmm/WithinAcrossSim/'+ rname + '_ListenersLeave1Out_withinAcross_perm.npy')  \n",
    "    realzm=np.nanmean(np.arctanh(within_across_real),axis=1)\n",
    "    nullzm=np.nanmean(np.arctanh(within_across_null),axis=1)\n",
    "    t,_=ttest_1samp(nullzm,realzm,axis=1,nan_policy='omit')\n",
    "    # real vs. null\n",
    "    t=-t\n",
    "    Ks_optimal[rname] = np.nanargmax(t)+1\n",
    "    # plt.plot(t,'r')\n",
    "    # plt.plot(np.nanmean(within_across_real,axis=1),'r')\n",
    "    # plt.plot(np.nanmean(within_across_null,axis=1),'gray')\n",
    "    # plt.title(rname +\" \"+str(np.nanargmax(np.nanmean(within_across_real,axis=1))+1))\n",
    "    # plt.title(rname +\" \"+str(np.nanargmax(t)+1))\n",
    "    # plt.show()\n",
    "    # input(\"Press Enter to continue...\")\n",
    "\n",
    "np.save(expdir +  exp+ '/fmri/hmm/Ks_optimal.npy',Ks_optimal)\n",
    "\n"
   ]
  },
  {
   "cell_type": "code",
   "execution_count": 107,
   "metadata": {},
   "outputs": [],
   "source": [
    "import csv\n",
    "with open(expdir +  exp+ \"/fmri/hmm/Ks_optimal.csv\", 'w', newline=\"\") as csv_file:  \n",
    "    writer = csv.writer(csv_file)\n",
    "    for key, value in Ks_optimal.items():\n",
    "        writer.writerow([key, value])"
   ]
  },
  {
   "cell_type": "code",
   "execution_count": null,
   "metadata": {},
   "outputs": [],
   "source": []
  }
 ],
 "metadata": {
  "kernelspec": {
   "display_name": "Python 3",
   "language": "python",
   "name": "python3"
  },
  "language_info": {
   "codemirror_mode": {
    "name": "ipython",
    "version": 3
   },
   "file_extension": ".py",
   "mimetype": "text/x-python",
   "name": "python",
   "nbconvert_exporter": "python",
   "pygments_lexer": "ipython3",
   "version": "3.6.4"
  }
 },
 "nbformat": 4,
 "nbformat_minor": 2
}
