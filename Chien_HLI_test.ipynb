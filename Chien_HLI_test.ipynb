{
 "cells": [
  {
   "cell_type": "code",
   "execution_count": 3,
   "metadata": {},
   "outputs": [],
   "source": [
    "import numpy as np\n",
    "\n",
    "\n",
    "def Norm_vec(vec):\n",
    "    # nornalize the length of this vector to 1\n",
    "    norm = np.linalg.norm(vec)\n",
    "    if norm == 0: \n",
    "        return vec\n",
    "    return vec / norm\n",
    "    \n",
    "    \n",
    "def HLI_train(bipolar_train, beta, gamma):\n",
    "    gamma_fc = 0.898\n",
    "    time, vec_size=np.shape(bipolar_train)\n",
    "    Mtf = np.identity(vec_size)*0\n",
    "    Mtf = np.repeat([Mtf],3,axis=0)\n",
    "    Mft = np.identity(vec_size)*(1-gamma_fc)\n",
    "    Mft = np.repeat([Mft],3,axis=0)\n",
    "    t = np.zeros((3,1,vec_size))\n",
    "    for i in range(time):\n",
    "        for l in range(3):\n",
    "#             print(\"layer:\",l)\n",
    "            if l==0:\n",
    "                f = [bipolar_train[i]]\n",
    "            else:\n",
    "                f = t_below\n",
    "            # each level depends on the level below\n",
    "            t_in = np.dot(Mft[l],np.transpose(f))\n",
    "            t_in = np.transpose(t_in)\n",
    "            t_in = Norm_vec(t_in)\n",
    "            t_tin=np.inner(t_in,t[l])\n",
    "            ro = (1+beta[l]**2*(t_tin**2-1))**0.5 - beta[l]*(t_tin)\n",
    "            f=np.array(f)\n",
    "            # Chien (2020) Equatio 1\n",
    "            t[l] = ro*t[l] + beta[l]*f\n",
    "            t[l] = Norm_vec(t[l])\n",
    "            Mtf[l] = Mtf[l] + np.dot(np.transpose(f),t[l])\n",
    "\n",
    "            P = np.dot(np.transpose(f),f)/np.linalg.norm(f)**2\n",
    "            B = 1/(gamma**2 + 2*gamma*np.inner(t_in, t[l]) + 1)\n",
    "            A = gamma * B\n",
    "            Mft[l] = Mft[l]*(1-P) + A*Mft[l]*P + B*np.dot(np.transpose(t[l]),f)\n",
    "            t_below = t[l]\n",
    "\n",
    "    return Mtf, Mft\n",
    "\n",
    "\n",
    "def HLI_test(bipolar_test, Mtf, Mft,  beta, gamma):\n",
    "    time, vec_size=np.shape(bipolar_test)\n",
    "    t_in_arr = np.zeros((0,vec_size))\n",
    "    t_arr = np.zeros((3,time,vec_size))\n",
    "    t = np.zeros((3,1,vec_size))\n",
    "    for i in range(time):\n",
    "#         print(\"time\",i)\n",
    "        for l in range(3):\n",
    "            if l==0:\n",
    "                f = [bipolar_test[i]]\n",
    "            else:\n",
    "                f = t_below   \n",
    "            t_in = np.dot(Mft[l],np.transpose(f)) #preexperimental\n",
    "            t_in_arr = np.concatenate((t_in_arr,np.transpose(t_in)),0)\n",
    "            t_in = np.transpose(t_in)\n",
    "            t_in = Norm_vec(t_in)\n",
    "            t_tin=np.inner(t_in,t[l])\n",
    "            ro = (1+beta[l]**2*(t_tin**2-1))**0.5 - beta[l]*(t_tin)\n",
    "            f=np.array(f)\n",
    "            t[l] = ro*t[l] + beta[l]*f \n",
    "            t[l] = Norm_vec(t[l])\n",
    "            t_arr[l][i] = t[l]\n",
    "            t_below = t[l]\n",
    "\n",
    "    return t_arr\n"
   ]
  },
  {
   "cell_type": "code",
   "execution_count": 210,
   "metadata": {},
   "outputs": [],
   "source": [
    "bipolar_train=np.eye(30)\n",
    "np.random.shuffle(bipolar_train)\n",
    "\n",
    "Mtf, Mft=HLI_train(bipolar_train, [0.9,0.7,0.5],0.5)\n",
    "t_arr=HLI_test(bipolar_train, Mtf, Mft,  beta, gamma)"
   ]
  },
  {
   "cell_type": "code",
   "execution_count": 217,
   "metadata": {},
   "outputs": [
    {
     "data": {
      "text/plain": [
       "(3, 30, 30)"
      ]
     },
     "execution_count": 217,
     "metadata": {},
     "output_type": "execute_result"
    }
   ],
   "source": [
    "t[]"
   ]
  },
  {
   "cell_type": "code",
   "execution_count": 211,
   "metadata": {},
   "outputs": [
    {
     "name": "stderr",
     "output_type": "stream",
     "text": [
      "/jukebox/pkgs/PYGER/neu350/lib/python3.6/site-packages/ipykernel_launcher.py:11: MatplotlibDeprecationWarning: pyplot.hold is deprecated.\n",
      "    Future behavior will be consistent with the long-time default:\n",
      "    plot commands add elements without first clearing the\n",
      "    Axes and/or Figure.\n",
      "  # This is added back by InteractiveShellApp.init_path()\n",
      "/usr/people/huichuan/.local/lib/python3.6/site-packages/matplotlib/__init__.py:917: UserWarning: axes.hold is deprecated. Please remove it from your matplotlibrc and/or style files.\n",
      "  warnings.warn(self.msg_depr_set % key)\n",
      "/usr/people/huichuan/.local/lib/python3.6/site-packages/matplotlib/rcsetup.py:152: UserWarning: axes.hold is deprecated, will be removed in 3.0\n",
      "  warnings.warn(\"axes.hold is deprecated, will be removed in 3.0\")\n",
      "/jukebox/pkgs/PYGER/neu350/lib/python3.6/site-packages/ipykernel_launcher.py:12: MatplotlibDeprecationWarning: pyplot.hold is deprecated.\n",
      "    Future behavior will be consistent with the long-time default:\n",
      "    plot commands add elements without first clearing the\n",
      "    Axes and/or Figure.\n",
      "  if sys.path[0] == '':\n"
     ]
    },
    {
     "data": {
      "text/plain": [
       "<matplotlib.legend.Legend at 0x7f9a2823a470>"
      ]
     },
     "execution_count": 211,
     "metadata": {},
     "output_type": "execute_result"
    },
    {
     "data": {
      "image/png": "[encoded data removed]",
      "text/plain": [
       "<matplotlib.figure.Figure at 0x7f9a29113400>"
      ]
     },
     "metadata": {},
     "output_type": "display_data"
    }
   ],
   "source": [
    "plt.subplot(2,4,1)\n",
    "plt.imshow(bipolar_train)\n",
    "for l in range(3):\n",
    "    plt.subplot(2,4,l+2)\n",
    "    plt.imshow(t_arr[l,:,:])\n",
    "\n",
    "plt.subplot(2,1,2)\n",
    "cols=['b','g','r']\n",
    "for l in range(3):\n",
    "    plt.plot(np.sum(t_arr[l,:,:],axis=1),cols[l])\n",
    "    plt.hold(1)\n",
    "plt.hold(0)\n",
    "plt.legend([1,2,3],frameon=False)"
   ]
  },
  {
   "cell_type": "code",
   "execution_count": null,
   "metadata": {},
   "outputs": [],
   "source": []
  },
  {
   "cell_type": "code",
   "execution_count": 272,
   "metadata": {},
   "outputs": [
    {
     "data": {
      "text/plain": [
       "0.9999999999999999"
      ]
     },
     "execution_count": 272,
     "metadata": {},
     "output_type": "execute_result"
    }
   ],
   "source": [
    "a=np.array([1, 2, 3, 6, 5])\n",
    "np.linalg.norm(a)\n",
    "nm=Norm_vec(a)\n",
    "\n",
    "np.linalg.norm(nm)"
   ]
  },
  {
   "cell_type": "code",
   "execution_count": 212,
   "metadata": {},
   "outputs": [],
   "source": [
    "beta=[0.9, 0.7, 0.5]\n",
    "gamma=0.5\n",
    "Mtf, Mft = HLI_train(bipolar_train, beta, gamma)\n",
    "    "
   ]
  },
  {
   "cell_type": "code",
   "execution_count": 274,
   "metadata": {},
   "outputs": [],
   "source": [
    "gamma_fc = 0.898\n",
    "time, vec_size=np.shape(bipolar_train)\n",
    "Mtf = np.identity(vec_size)*0\n",
    "Mtf = np.repeat([Mtf],3,axis=0)\n",
    "Mft = np.identity(vec_size)*(1-gamma_fc)\n",
    "Mft = np.repeat([Mft],3,axis=0)\n",
    "t = np.zeros((3,1,vec_size))"
   ]
  },
  {
   "cell_type": "code",
   "execution_count": 275,
   "metadata": {},
   "outputs": [
    {
     "data": {
      "image/png": "[encoded data removed]",
      "text/plain": [
       "<matplotlib.figure.Figure at 0x7f9a281d4668>"
      ]
     },
     "metadata": {},
     "output_type": "display_data"
    }
   ],
   "source": [
    "for i in range(10):\n",
    "    for l in range(3):\n",
    "#             print(\"layer:\",l)\n",
    "        if l==0:\n",
    "            f = [bipolar_train[i]]\n",
    "        else:\n",
    "            f = t_below\n",
    "        t_in = np.dot(Mft[l],np.transpose(f))\n",
    "        t_in = np.transpose(t_in)\n",
    "        t_in = Norm_vec(t_in)\n",
    "        t_tin=np.inner(t_in,t[l])\n",
    "        ro = (1+beta[l]**2*(t_tin**2-1))**0.5 - beta[l]*(t_tin)\n",
    "       \n",
    "        f=np.array(f)\n",
    "        t[l] = ro*t[l] + beta[l]*f\n",
    "        t[l] = Norm_vec(t[l])\n",
    "        plt.subplot(2,5,i+1);\n",
    "        plt.imshow(Mft[l])\n",
    "        Mtf[l] = Mtf[l] + np.dot(np.transpose(f),t[l])\n",
    "\n",
    "        P = np.dot(np.transpose(f),f)/np.linalg.norm(f)**2\n",
    "        B = 1/(gamma**2 + 2*gamma*np.inner(t_in, t[l]) + 1)\n",
    "        A = gamma * B\n",
    "        Mft[l] = Mft[l]*(1-P) + A*Mft[l]*P + B*np.dot(np.transpose(t[l]),f)\n",
    "        t_below = t[l]"
   ]
  },
  {
   "cell_type": "code",
   "execution_count": 276,
   "metadata": {},
   "outputs": [],
   "source": [
    "# Mft is updateed with each time step during traing. During the test period, the trained Mft is used without update.\n",
    "# Mtf is never used anywhere..."
   ]
  },
  {
   "cell_type": "code",
   "execution_count": 298,
   "metadata": {},
   "outputs": [
    {
     "data": {
      "text/plain": [
       "0.34252414042198814"
      ]
     },
     "execution_count": 298,
     "metadata": {},
     "output_type": "execute_result"
    }
   ],
   "source": [
    "f[0,8]\n",
    "\n"
   ]
  },
  {
   "cell_type": "code",
   "execution_count": 299,
   "metadata": {},
   "outputs": [
    {
     "data": {
      "text/plain": [
       "0.11732278677182185"
      ]
     },
     "execution_count": 299,
     "metadata": {},
     "output_type": "execute_result"
    }
   ],
   "source": [
    "P[8,8]"
   ]
  },
  {
   "cell_type": "code",
   "execution_count": 300,
   "metadata": {},
   "outputs": [
    {
     "data": {
      "text/plain": [
       "0.11732278677182185"
      ]
     },
     "execution_count": 300,
     "metadata": {},
     "output_type": "execute_result"
    }
   ],
   "source": [
    "np.linalg.norm(f[0,8])**2"
   ]
  },
  {
   "cell_type": "code",
   "execution_count": 303,
   "metadata": {},
   "outputs": [
    {
     "data": {
      "text/plain": [
       "1.0"
      ]
     },
     "execution_count": 303,
     "metadata": {},
     "output_type": "execute_result"
    }
   ],
   "source": [
    "np.dot(np.transpose(f[0,8]),f[0,8])/np.linalg.norm(f[0,8])**2"
   ]
  },
  {
   "cell_type": "code",
   "execution_count": 305,
   "metadata": {},
   "outputs": [
    {
     "data": {
      "text/plain": [
       "0.11732278677182185"
      ]
     },
     "execution_count": 305,
     "metadata": {},
     "output_type": "execute_result"
    }
   ],
   "source": [
    "P[8,8]"
   ]
  },
  {
   "cell_type": "code",
   "execution_count": null,
   "metadata": {},
   "outputs": [],
   "source": []
  }
 ],
 "metadata": {
  "kernelspec": {
   "display_name": "Python 3",
   "language": "python",
   "name": "python3"
  },
  "language_info": {
   "codemirror_mode": {
    "name": "ipython",
    "version": 3
   },
   "file_extension": ".py",
   "mimetype": "text/x-python",
   "name": "python",
   "nbconvert_exporter": "python",
   "pygments_lexer": "ipython3",
   "version": "3.6.4"
  }
 },
 "nbformat": 4,
 "nbformat_minor": 2
}
